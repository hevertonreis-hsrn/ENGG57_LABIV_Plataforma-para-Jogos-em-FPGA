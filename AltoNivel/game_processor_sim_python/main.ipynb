{
 "cells": [
  {
   "cell_type": "code",
   "execution_count": 1,
   "id": "0953fef4",
   "metadata": {},
   "outputs": [],
   "source": [
    "import time\n",
    "import os\n",
    "import sys\n",
    "from core.processor import Processor\n",
    "from core.memory import Memory\n",
    "from core.loader import load_from_file\n",
    "from core.utils import print_register_state\n"
   ]
  },
  {
   "cell_type": "code",
   "execution_count": 2,
   "id": "800a3a29",
   "metadata": {},
   "outputs": [],
   "source": [
    "PROGRAM_PATH = \"programs/\"\n",
    "MAX_STEPS = 100"
   ]
  },
  {
   "cell_type": "code",
   "execution_count": 3,
   "id": "12668a5b",
   "metadata": {},
   "outputs": [],
   "source": [
    "program_file = \"interrupt.txt\""
   ]
  },
  {
   "cell_type": "code",
   "execution_count": 4,
   "id": "9a0048d0",
   "metadata": {},
   "outputs": [
    {
     "name": "stdout",
     "output_type": "stream",
     "text": [
      "Loaded 13 instructions from programs/interrupt.txt\n"
     ]
    }
   ],
   "source": [
    "program = load_from_file(os.path.join(PROGRAM_PATH, program_file))\n",
    "mem = Memory()\n",
    "mem.load_program(program)\n",
    "proc = Processor(mem)"
   ]
  },
  {
   "cell_type": "code",
   "execution_count": 5,
   "id": "934164d5",
   "metadata": {},
   "outputs": [
    {
     "data": {
      "text/plain": [
       "['MOV R1 R0',\n",
       " 'ADD R1 R1',\n",
       " 'ADD R1 R1',\n",
       " 'ADD R1 R1',\n",
       " 'SVEC 3 R1',\n",
       " 'MOV R2 R0',\n",
       " 'ADD R2 R2',\n",
       " 'INT 3',\n",
       " 'ADD R2 R2',\n",
       " 'HALT',\n",
       " 'MOV R5 R0',\n",
       " 'ADD R5 R5',\n",
       " 'IRET']"
      ]
     },
     "execution_count": 5,
     "metadata": {},
     "output_type": "execute_result"
    }
   ],
   "source": [
    "mem.instructions"
   ]
  },
  {
   "cell_type": "code",
   "execution_count": 6,
   "id": "7956fa64",
   "metadata": {},
   "outputs": [
    {
     "name": "stdout",
     "output_type": "stream",
     "text": [
      "--------------------------------------------------\n",
      "\n",
      "Register State:\n",
      "R0=0 | R1=0 | R2=0 | R3=0\n",
      "R4=0 | R5=0 | R6=0 | R7=0\n",
      "R8=0 | R9=0 | R10=0 | R11=0\n",
      "R12=0 | R13=0 | R14=0 | R15=0\n",
      "R16=0 | R17=0 | R18=0 | R19=0\n",
      "R20=0 | R21=0 | R22=0 | R23=0\n",
      "R24=0 | R25=0 | R26=0 | R27=0\n",
      "R28=0 | R29=0 | R30=0 | R31=0\n",
      "\n",
      "Flags: \n",
      "PC: 0\n",
      "Stack: []\n",
      "--------------------------------------------------\n"
     ]
    }
   ],
   "source": [
    "print_register_state(proc)"
   ]
  },
  {
   "cell_type": "code",
   "execution_count": 7,
   "id": "cc93a4e2",
   "metadata": {},
   "outputs": [],
   "source": [
    "proc.registers[0] = 1"
   ]
  },
  {
   "cell_type": "code",
   "execution_count": 8,
   "id": "fd5cd452",
   "metadata": {},
   "outputs": [
    {
     "name": "stdout",
     "output_type": "stream",
     "text": [
      "PC: 0, Executing: MOV ['R1', 'R0']\n",
      "--------------------------------------------------\n",
      "\n",
      "Register State:\n",
      "R0=1 | R1=1 | R2=0 | R3=0\n",
      "R4=0 | R5=0 | R6=0 | R7=0\n",
      "R8=0 | R9=0 | R10=0 | R11=0\n",
      "R12=0 | R13=0 | R14=0 | R15=0\n",
      "R16=0 | R17=0 | R18=0 | R19=0\n",
      "R20=0 | R21=0 | R22=0 | R23=0\n",
      "R24=0 | R25=0 | R26=0 | R27=0\n",
      "R28=0 | R29=0 | R30=0 | R31=0\n",
      "\n",
      "Flags: \n",
      "PC: 1\n",
      "Stack: []\n",
      "--------------------------------------------------\n",
      "PC: 1, Executing: ADD ['R1', 'R1']\n",
      "--------------------------------------------------\n",
      "\n",
      "Register State:\n",
      "R0=1 | R1=2 | R2=0 | R3=0\n",
      "R4=0 | R5=0 | R6=0 | R7=0\n",
      "R8=0 | R9=0 | R10=0 | R11=0\n",
      "R12=0 | R13=0 | R14=0 | R15=0\n",
      "R16=0 | R17=0 | R18=0 | R19=0\n",
      "R20=0 | R21=0 | R22=0 | R23=0\n",
      "R24=0 | R25=0 | R26=0 | R27=0\n",
      "R28=0 | R29=0 | R30=0 | R31=0\n",
      "\n",
      "Flags: \n",
      "PC: 2\n",
      "Stack: []\n",
      "--------------------------------------------------\n",
      "PC: 2, Executing: ADD ['R1', 'R1']\n",
      "--------------------------------------------------\n",
      "\n",
      "Register State:\n",
      "R0=1 | R1=4 | R2=0 | R3=0\n",
      "R4=0 | R5=0 | R6=0 | R7=0\n",
      "R8=0 | R9=0 | R10=0 | R11=0\n",
      "R12=0 | R13=0 | R14=0 | R15=0\n",
      "R16=0 | R17=0 | R18=0 | R19=0\n",
      "R20=0 | R21=0 | R22=0 | R23=0\n",
      "R24=0 | R25=0 | R26=0 | R27=0\n",
      "R28=0 | R29=0 | R30=0 | R31=0\n",
      "\n",
      "Flags: \n",
      "PC: 3\n",
      "Stack: []\n",
      "--------------------------------------------------\n",
      "PC: 3, Executing: ADD ['R1', 'R1']\n",
      "--------------------------------------------------\n",
      "\n",
      "Register State:\n",
      "R0=1 | R1=8 | R2=0 | R3=0\n",
      "R4=0 | R5=0 | R6=0 | R7=0\n",
      "R8=0 | R9=0 | R10=0 | R11=0\n",
      "R12=0 | R13=0 | R14=0 | R15=0\n",
      "R16=0 | R17=0 | R18=0 | R19=0\n",
      "R20=0 | R21=0 | R22=0 | R23=0\n",
      "R24=0 | R25=0 | R26=0 | R27=0\n",
      "R28=0 | R29=0 | R30=0 | R31=0\n",
      "\n",
      "Flags: \n",
      "PC: 4\n",
      "Stack: []\n",
      "--------------------------------------------------\n",
      "PC: 4, Executing: SVEC ['3', 'R1']\n",
      "--------------------------------------------------\n",
      "\n",
      "Register State:\n",
      "R0=1 | R1=8 | R2=0 | R3=0\n",
      "R4=0 | R5=0 | R6=0 | R7=0\n",
      "R8=0 | R9=0 | R10=0 | R11=0\n",
      "R12=0 | R13=0 | R14=0 | R15=0\n",
      "R16=0 | R17=0 | R18=0 | R19=0\n",
      "R20=0 | R21=0 | R22=0 | R23=0\n",
      "R24=0 | R25=0 | R26=0 | R27=0\n",
      "R28=0 | R29=0 | R30=0 | R31=0\n",
      "\n",
      "Flags: \n",
      "PC: 5\n",
      "Stack: []\n",
      "--------------------------------------------------\n",
      "PC: 5, Executing: MOV ['R2', 'R0']\n",
      "--------------------------------------------------\n",
      "\n",
      "Register State:\n",
      "R0=1 | R1=8 | R2=1 | R3=0\n",
      "R4=0 | R5=0 | R6=0 | R7=0\n",
      "R8=0 | R9=0 | R10=0 | R11=0\n",
      "R12=0 | R13=0 | R14=0 | R15=0\n",
      "R16=0 | R17=0 | R18=0 | R19=0\n",
      "R20=0 | R21=0 | R22=0 | R23=0\n",
      "R24=0 | R25=0 | R26=0 | R27=0\n",
      "R28=0 | R29=0 | R30=0 | R31=0\n",
      "\n",
      "Flags: \n",
      "PC: 6\n",
      "Stack: []\n",
      "--------------------------------------------------\n",
      "PC: 6, Executing: ADD ['R2', 'R2']\n",
      "--------------------------------------------------\n",
      "\n",
      "Register State:\n",
      "R0=1 | R1=8 | R2=2 | R3=0\n",
      "R4=0 | R5=0 | R6=0 | R7=0\n",
      "R8=0 | R9=0 | R10=0 | R11=0\n",
      "R12=0 | R13=0 | R14=0 | R15=0\n",
      "R16=0 | R17=0 | R18=0 | R19=0\n",
      "R20=0 | R21=0 | R22=0 | R23=0\n",
      "R24=0 | R25=0 | R26=0 | R27=0\n",
      "R28=0 | R29=0 | R30=0 | R31=0\n",
      "\n",
      "Flags: \n",
      "PC: 7\n",
      "Stack: []\n",
      "--------------------------------------------------\n",
      "PC: 7, Executing: INT ['3']\n",
      "--------------------------------------------------\n",
      "\n",
      "Register State:\n",
      "R0=1 | R1=8 | R2=2 | R3=0\n",
      "R4=0 | R5=0 | R6=0 | R7=0\n",
      "R8=0 | R9=0 | R10=0 | R11=0\n",
      "R12=0 | R13=0 | R14=0 | R15=0\n",
      "R16=0 | R17=0 | R18=0 | R19=0\n",
      "R20=0 | R21=0 | R22=0 | R23=0\n",
      "R24=0 | R25=0 | R26=0 | R27=0\n",
      "R28=0 | R29=0 | R30=0 | R31=0\n",
      "\n",
      "Flags: interrupt=1 \n",
      "PC: 8\n",
      "Stack: [0, 7]\n",
      "--------------------------------------------------\n",
      "PC: 8, Executing: ADD ['R2', 'R2']\n",
      "--------------------------------------------------\n",
      "\n",
      "Register State:\n",
      "R0=1 | R1=8 | R2=4 | R3=0\n",
      "R4=0 | R5=0 | R6=0 | R7=0\n",
      "R8=0 | R9=0 | R10=0 | R11=0\n",
      "R12=0 | R13=0 | R14=0 | R15=0\n",
      "R16=0 | R17=0 | R18=0 | R19=0\n",
      "R20=0 | R21=0 | R22=0 | R23=0\n",
      "R24=0 | R25=0 | R26=0 | R27=0\n",
      "R28=0 | R29=0 | R30=0 | R31=0\n",
      "\n",
      "Flags: interrupt=1 \n",
      "PC: 9\n",
      "Stack: [0, 7]\n",
      "--------------------------------------------------\n",
      "PC: 9, Executing: HALT []\n",
      "Program halted\n",
      "--------------------------------------------------\n",
      "\n",
      "Register State:\n",
      "R0=1 | R1=8 | R2=4 | R3=0\n",
      "R4=0 | R5=0 | R6=0 | R7=0\n",
      "R8=0 | R9=0 | R10=0 | R11=0\n",
      "R12=0 | R13=0 | R14=0 | R15=0\n",
      "R16=0 | R17=0 | R18=0 | R19=0\n",
      "R20=0 | R21=0 | R22=0 | R23=0\n",
      "R24=0 | R25=0 | R26=0 | R27=0\n",
      "R28=0 | R29=0 | R30=0 | R31=0\n",
      "\n",
      "Flags: interrupt=1 \n",
      "PC: 10\n",
      "Stack: [0, 7]\n",
      "--------------------------------------------------\n"
     ]
    }
   ],
   "source": [
    "step = 0\n",
    "halted = False\n",
    "while not halted and step < MAX_STEPS:  # Equivale ao proc.run\n",
    "    proc.step()\n",
    "    print_register_state(proc)\n",
    "    halted = proc.halted\n",
    "    step += 1"
   ]
  },
  {
   "cell_type": "code",
   "execution_count": null,
   "id": "84b4f929",
   "metadata": {},
   "outputs": [],
   "source": []
  },
  {
   "cell_type": "code",
   "execution_count": null,
   "id": "795fe546",
   "metadata": {},
   "outputs": [],
   "source": []
  }
 ],
 "metadata": {
  "kernelspec": {
   "display_name": "base",
   "language": "python",
   "name": "python3"
  },
  "language_info": {
   "codemirror_mode": {
    "name": "ipython",
    "version": 3
   },
   "file_extension": ".py",
   "mimetype": "text/x-python",
   "name": "python",
   "nbconvert_exporter": "python",
   "pygments_lexer": "ipython3",
   "version": "3.12.4"
  }
 },
 "nbformat": 4,
 "nbformat_minor": 5
}
